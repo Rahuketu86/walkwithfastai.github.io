{
 "cells": [
  {
   "cell_type": "code",
   "execution_count": null,
   "metadata": {},
   "outputs": [],
   "source": [
    "# default_exp utils"
   ]
  },
  {
   "cell_type": "markdown",
   "metadata": {},
   "source": [
    "# Utility Functions\n",
    "> Various utilities that function as the backbone for the website/book"
   ]
  },
  {
   "cell_type": "code",
   "execution_count": null,
   "metadata": {},
   "outputs": [],
   "source": [
    "#hide\n",
    "from nbdev.showdoc import *"
   ]
  },
  {
   "cell_type": "markdown",
   "metadata": {},
   "source": [
    "## Declaring Version Information\n",
    "\n",
    "Simple methods to grab and state libraries you are using for a tutorial"
   ]
  },
  {
   "cell_type": "code",
   "execution_count": null,
   "metadata": {},
   "outputs": [],
   "source": [
    "#export\n",
    "import pkg_resources\n",
    "def get_version(lib:str): \n",
    "    \"Returns version of `lib`\"\n",
    "    return pkg_resources.get_distribution(lib).version"
   ]
  },
  {
   "cell_type": "code",
   "execution_count": null,
   "metadata": {},
   "outputs": [],
   "source": [
    "#export\n",
    "from IPython.display import Markdown\n",
    "def state_versions(libs:list=[]):\n",
    "    \"State all the versions currently installed from `libs` in Markdown\"\n",
    "    cell = ''\n",
    "    cell += '---\\n'\n",
    "    cell += 'This article is also a Jupyter Notebook available to be run from the top down. '\n",
    "    cell += 'There will be code snippets that you can then run in any environment. '\n",
    "    cell += 'Below are the versions of '\n",
    "    for i, lib in enumerate(libs):\n",
    "        if len(libs) == 1: cell += f'`{str(lib)}`'\n",
    "        elif i < len(libs)-1: \n",
    "            cell += ''.join(f'`{str(lib)}`')\n",
    "            if len(libs) > 2: cell += ', '\n",
    "            else: cell += ' '\n",
    "        elif len(libs) > 1: cell += ''.join(f'and `{str(lib)}`')\n",
    "    cell += ' currently running at the time of writing this:\\n'\n",
    "    cell += ''.join([\n",
    "        f'* `{str(lib)}`: {get_version(str(lib))} \\n'\n",
    "    for lib in libs])\n",
    "    cell += '---'\n",
    "    return Markdown(cell)"
   ]
  },
  {
   "cell_type": "markdown",
   "metadata": {},
   "source": [
    "Example usage:"
   ]
  },
  {
   "cell_type": "code",
   "execution_count": null,
   "metadata": {},
   "outputs": [
    {
     "data": {
      "text/markdown": [
       "---\n",
       "This article is also a Jupyter Notebook available to be run from the top down. There will be code snippets that you can then run in any environment. Below are the versions of `fastai` and `fastcore` currently running at the time of writing this:\n",
       "* `fastai`: 2.0.14 \n",
       "* `fastcore`: 1.0.11 \n",
       "---"
      ],
      "text/plain": [
       "<IPython.core.display.Markdown object>"
      ]
     },
     "execution_count": null,
     "metadata": {},
     "output_type": "execute_result"
    }
   ],
   "source": [
    "state_versions(['fastai', 'fastcore'])"
   ]
  }
 ],
 "metadata": {
  "kernelspec": {
   "display_name": "Python 3",
   "language": "python",
   "name": "python3"
  }
 },
 "nbformat": 4,
 "nbformat_minor": 4
}
