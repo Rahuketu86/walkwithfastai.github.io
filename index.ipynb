{
 "cells": [
  {
   "cell_type": "markdown",
   "metadata": {},
   "source": [
    "# Walk with fastai"
   ]
  },
  {
   "cell_type": "markdown",
   "metadata": {},
   "source": [
    "## What is this project?"
   ]
  },
  {
   "cell_type": "markdown",
   "metadata": {},
   "source": [
    "\n",
    "Welcome to Walk with fastai! This project was started by me (Zachary Mueller) as a way to collect interesting techniques dotted throughout the [fast.ai forums](forums.fast.ai), my own course materials, and the fantastic work of others into one centralized place.\n",
    "\n",
    "The goal is to have something much more than a \"fastai recipe book,\" where instead authors can explore in-depth into topics involving the usage of the `fastai` library. \n",
    "\n",
    "There is a central framework and theme for each super chapter, as you can see in the Table of Contents menu at the top of this screen. Topics are broken down by their super topic, such as:\n",
    "* Vision\n",
    "  * Classification\n",
    "    * Single Label\n",
    "\n",
    "These collection of articles can be as simple as showing a few lines of code for a use-case, to as advanced as introducing and explaining a topic.\n",
    "\n",
    "At the end of the day, I want this site to be a nice resource for folks to look up quickly how to do XYZ technique inside the library, that perhaps isn't 100% integrated or supported in the library's current status. "
   ]
  }
 ],
 "metadata": {
  "kernelspec": {
   "display_name": "Python 3",
   "language": "python",
   "name": "python3"
  },
  "language_info": {
   "codemirror_mode": {
    "name": "ipython",
    "version": 3
   },
   "file_extension": ".py",
   "mimetype": "text/x-python",
   "name": "python",
   "nbconvert_exporter": "python",
   "pygments_lexer": "ipython3",
   "version": "3.7.7"
  },
  "toc": {
   "base_numbering": 1,
   "nav_menu": {},
   "number_sections": false,
   "sideBar": true,
   "skip_h1_title": true,
   "title_cell": "Table of Contents",
   "title_sidebar": "Contents",
   "toc_cell": false,
   "toc_position": {},
   "toc_section_display": true,
   "toc_window_display": true
  }
 },
 "nbformat": 4,
 "nbformat_minor": 2
}
