{
 "cells": [
  {
   "cell_type": "code",
   "execution_count": null,
   "metadata": {},
   "outputs": [],
   "source": [
    "# default_exp utils"
   ]
  },
  {
   "cell_type": "markdown",
   "metadata": {},
   "source": [
    "# Utility Functions\n",
    "> Various utilities that function as the backbone for the website"
   ]
  },
  {
   "cell_type": "code",
   "execution_count": null,
   "metadata": {},
   "outputs": [],
   "source": [
    "#hide\n",
    "from nbdev.showdoc import *"
   ]
  },
  {
   "cell_type": "markdown",
   "metadata": {},
   "source": [
    "## Declaring Version Information\n",
    "\n",
    "Simple methods to grab and state libraries you are using for a tutorial"
   ]
  },
  {
   "cell_type": "code",
   "execution_count": null,
   "metadata": {},
   "outputs": [],
   "source": [
    "#export\n",
    "from importlib_metadata import version\n",
    "def get_version(lib): \n",
    "    \"Returns version of `lib`, can be either a `str` representation or the module itself\"\n",
    "    if isinstance(lib, str): return version(lib)\n",
    "    else:\n",
    "        try:\n",
    "            return lib.__version__\n",
    "        except:\n",
    "            raise TypeError('`lib` should either be the string name of the module or the module itself')"
   ]
  },
  {
   "cell_type": "markdown",
   "metadata": {},
   "source": [
    "An example with a `str`:"
   ]
  },
  {
   "cell_type": "code",
   "execution_count": null,
   "metadata": {},
   "outputs": [
    {
     "data": {
      "text/plain": [
       "'2.2.5'"
      ]
     },
     "execution_count": null,
     "metadata": {},
     "output_type": "execute_result"
    }
   ],
   "source": [
    "get_version('fastai')"
   ]
  },
  {
   "cell_type": "markdown",
   "metadata": {},
   "source": [
    "And an example with the module itself:"
   ]
  },
  {
   "cell_type": "code",
   "execution_count": null,
   "metadata": {},
   "outputs": [
    {
     "data": {
      "text/plain": [
       "'2.2.5'"
      ]
     },
     "execution_count": null,
     "metadata": {},
     "output_type": "execute_result"
    }
   ],
   "source": [
    "import fastai\n",
    "get_version(fastai)"
   ]
  },
  {
   "cell_type": "code",
   "execution_count": null,
   "metadata": {},
   "outputs": [],
   "source": [
    "#export\n",
    "from IPython.display import Markdown\n",
    "import warnings\n",
    "def state_versions(*libs):\n",
    "    \"State all the versions currently installed from `libs` in Markdown\"\n",
    "    cell = f\"\"\"\n",
    "---\n",
    "This article is also a Jupyter Notebook available to be run from the top down. There\n",
    "will be code snippets that you can then run in any environment.\n",
    "\n",
    "\"\"\"\n",
    "    if isinstance(libs[0], list):\n",
    "        warnings.warn('''Passing in a list of libraries will be deprecated, you should pass them directly such as:\n",
    "        `state_versions(fastai, fastcore)`\n",
    "        or:\n",
    "        `state_versions('fastai', 'fastcore')`\n",
    "        ''', category=DeprecationWarning)\n",
    "        libs = libs[0]\n",
    "    cell += 'Below are the versions of '\n",
    "    for i, lib in enumerate(libs):\n",
    "        nm = lib if isinstance(lib, str) else lib.__name__\n",
    "        if len(libs) == 1: cell += f'`{nm}`'\n",
    "        elif i < len(libs)-1: \n",
    "            cell += ''.join(f'`{nm}`')\n",
    "            if len(libs) > 2: cell += ', '\n",
    "            else: cell += ' '\n",
    "        elif len(libs) > 1: cell += ''.join(f'and `{nm}`')\n",
    "    cell += ' currently running at the time of writing this:\\n'\n",
    "    for lib in libs:\n",
    "        nm = lib if isinstance(lib, str) else lib.__name__\n",
    "        cell += f'* `{nm}` : {get_version(lib)} \\n'\n",
    "    cell += '---'\n",
    "    return Markdown(cell)"
   ]
  },
  {
   "cell_type": "markdown",
   "metadata": {},
   "source": [
    "Example usage:\n",
    "\n",
    "As strings:"
   ]
  },
  {
   "cell_type": "code",
   "execution_count": null,
   "metadata": {},
   "outputs": [
    {
     "data": {
      "text/markdown": [
       "\n",
       "---\n",
       "This article is also a Jupyter Notebook available to be run from the top down. There\n",
       "will be code snippets that you can then run in any environment.\n",
       "\n",
       "Below are the versions of `fastai` and `fastcore` currently running at the time of writing this:\n",
       "* `fastai` : 2.2.5 \n",
       "* `fastcore` : 1.3.19 \n",
       "---"
      ],
      "text/plain": [
       "<IPython.core.display.Markdown object>"
      ]
     },
     "execution_count": null,
     "metadata": {},
     "output_type": "execute_result"
    }
   ],
   "source": [
    "state_versions('fastai', 'fastcore')"
   ]
  },
  {
   "cell_type": "markdown",
   "metadata": {},
   "source": [
    "As direct modules:"
   ]
  },
  {
   "cell_type": "code",
   "execution_count": null,
   "metadata": {},
   "outputs": [
    {
     "data": {
      "text/markdown": [
       "\n",
       "---\n",
       "This article is also a Jupyter Notebook available to be run from the top down. There\n",
       "will be code snippets that you can then run in any environment.\n",
       "\n",
       "Below are the versions of `fastai` and `fastcore` currently running at the time of writing this:\n",
       "* `fastai` : 2.2.5 \n",
       "* `fastcore` : 1.3.19 \n",
       "---"
      ],
      "text/plain": [
       "<IPython.core.display.Markdown object>"
      ]
     },
     "execution_count": null,
     "metadata": {},
     "output_type": "execute_result"
    }
   ],
   "source": [
    "import fastai, fastcore\n",
    "state_versions(fastai, fastcore)"
   ]
  },
  {
   "cell_type": "code",
   "execution_count": null,
   "metadata": {},
   "outputs": [
    {
     "name": "stderr",
     "output_type": "stream",
     "text": [
      "/mnt/d/lib/python3.7/site-packages/ipykernel_launcher.py:17: DeprecationWarning: Passing in a list of libraries will be deprecated, you should pass them directly such as:\n",
      "        `state_versions(fastai, fastcore)`\n",
      "        or:\n",
      "        `state_versions('fastai', 'fastcore')`\n",
      "        \n"
     ]
    },
    {
     "data": {
      "text/markdown": [
       "\n",
       "---\n",
       "This article is also a Jupyter Notebook available to be run from the top down. There\n",
       "will be code snippets that you can then run in any environment.\n",
       "\n",
       "Below are the versions of `fastai` and `fastcore` currently running at the time of writing this:\n",
       "* `fastai` : 2.2.5 \n",
       "* `fastcore` : 1.3.19 \n",
       "---"
      ],
      "text/plain": [
       "<IPython.core.display.Markdown object>"
      ]
     },
     "execution_count": null,
     "metadata": {},
     "output_type": "execute_result"
    }
   ],
   "source": [
    "state_versions([fastai, fastcore])"
   ]
  },
  {
   "cell_type": "code",
   "execution_count": null,
   "metadata": {},
   "outputs": [],
   "source": []
  }
 ],
 "metadata": {
  "kernelspec": {
   "display_name": "Python 3",
   "language": "python",
   "name": "python3"
  }
 },
 "nbformat": 4,
 "nbformat_minor": 4
}
