{
 "cells": [
  {
   "cell_type": "markdown",
   "metadata": {},
   "source": [
    "# Lesson 1 - Introduction"
   ]
  },
  {
   "cell_type": "markdown",
   "metadata": {},
   "source": [
    "Link to video lecture: [HERE](http://www.youtube.com/watch?v=bw4PRyxa-y4)"
   ]
  },
  {
   "cell_type": "markdown",
   "metadata": {},
   "source": [
    "![](https://github.com/muellerzr/Practical-Deep-Learning-for-Coders-2.0/blob/master/walkwithfastai.png?raw=true)\n",
    "\n",
    "## About this course/study group:\n",
    "* It's a hybrid\n",
    "* Like Practical Deep Learning for Coders but many bonuses\n",
    "* Spans 2-3 hours depending on who stays with 1-1.5 hour lectures\n",
    "\n",
    "## About Me:\n",
    "* Been doing fastai for 1.5 years\n",
    "* A few projects (some involving fastai, some not)\n",
    "* University undergraduate, Software Design and Development with a minor in ES\n",
    "\n",
    "## Why did I make this?\n",
    "* Make fastai accessable to Undergraduates at my school (University of West Florida)\n",
    "* We both learn\n",
    "* Techniques not mentioned in the course"
   ]
  },
  {
   "cell_type": "markdown",
   "metadata": {},
   "source": [
    "## Course Schedule\n",
    "\n",
    "**BLOCKS**:\n",
    "* Block 1: Computer Vision\n",
    "* Block 2: Tabular Neural Networks\n",
    "* Block 3: Natural Language Processing\n",
    "\n",
    "**Block 1** (January 15th - February 26th):\n",
    "* **Lesson 1: PETs and Custom Datasets (a warm introduction to the DataBlock API)**\n",
    "* Lesson 2: Image Classification Models from Scratch, Stochastic Gradient Descent\n",
    "* Lesson 3: Multi-Label Classification, and Dealing with Unknown Labels\n",
    "* Lesson 4: Image Segmentation, State-of-the-Art in Computer Vision\n",
    "* Lesson 5: Style Transfer, `nbdev`, and Deployment\n",
    "* Lesson 6: Keypoint Regression and Pose Detection\n",
    "* Lesson 7: Image Generation and Object Detection\n",
    "* Lesson 8: Audio\n",
    "\n",
    "**Block 2** (March 4th - March 25th):\n",
    "* Lesson 1: Pandas Workshop and Tabular Classification\n",
    "* Lesson 2: Feature Engineering and Tabular Regression\n",
    "* Lesson 3: Permutation Importance, Bayesian Optimization, Cross-Validation, and Labeled Test Sets\n",
    "* Lesson 4: NODE, TabNet, DeepGBM\n",
    "\n",
    "**BLOCK 3** (April 1st - April 22nd):\n",
    "* Lesson 1: Introduction to NLP and the LSTM\n",
    "* Lesson 2: Full Sentiment Classification, Tokenizers, and Ensembling\n",
    "* Lesson 3: Other State-of-the-Art NLP Models\n",
    "* Lesson 4: Multi-Lingual Data, DeViSe\n",
    "\n",
    "Looks very intense, if you don't keep up it's okay. Lectures are recorded."
   ]
  },
  {
   "cell_type": "markdown",
   "metadata": {},
   "source": [
    "## Requirements:\n",
    "\n",
    "* A Google account to use Google Colaboratory (what I am in right now)\n",
    "* A Paperspace account for Natural Language Processing"
   ]
  },
  {
   "cell_type": "markdown",
   "metadata": {},
   "source": [
    "## Communication\n",
    "* Key to making study groups work!\n",
    "* We have a dedicated mega-thread on the fastai forums [here](https://forums.fast.ai/t/a-walk-with-fastai-study-group-and-online-lectures-megathread/59929) for us to use!\n",
    "* No question is too stupid!"
   ]
  },
  {
   "cell_type": "markdown",
   "metadata": {},
   "source": [
    "## Environment setup\n",
    "\n",
    "Google Colaboratory - Free GPU's\n",
    "\n",
    "Go to [here](colab.research.google.com) to start using it."
   ]
  },
  {
   "cell_type": "markdown",
   "metadata": {},
   "source": [
    "File -> Open notebook"
   ]
  },
  {
   "cell_type": "markdown",
   "metadata": {},
   "source": [
    "![](https://i.imgur.com/pGCkS9G.png)"
   ]
  },
  {
   "cell_type": "markdown",
   "metadata": {},
   "source": [
    "Select from GitHub and use the following URL: muellerzr/A-walk-with-fastai"
   ]
  },
  {
   "cell_type": "markdown",
   "metadata": {},
   "source": [
    "![](https://i.imgur.com/9O1LMZt.png)"
   ]
  },
  {
   "cell_type": "markdown",
   "metadata": {},
   "source": [
    "Choose open in a new tab"
   ]
  },
  {
   "cell_type": "markdown",
   "metadata": {},
   "source": [
    "![](https://i.imgur.com/NuL67k9.png)"
   ]
  },
  {
   "cell_type": "markdown",
   "metadata": {},
   "source": [
    "And now your screen looks similar to below! (With what I am using instead)"
   ]
  },
  {
   "cell_type": "markdown",
   "metadata": {},
   "source": [
    "![alt text](https://i.imgur.com/n4mQ2qj.png)"
   ]
  },
  {
   "cell_type": "markdown",
   "metadata": {},
   "source": [
    "## Changing our processer to a GPU"
   ]
  },
  {
   "cell_type": "markdown",
   "metadata": {},
   "source": [
    "* 'Runtime'\n",
    "* 'Change runtime type'\n",
    "* 'Runtime type' should be 'Python 3'\n",
    "* 'Hardware accelerator' should be 'GPU' "
   ]
  },
  {
   "cell_type": "markdown",
   "metadata": {},
   "source": [
    "## Initial Run Warning (For pulling from GitHub)"
   ]
  },
  {
   "cell_type": "markdown",
   "metadata": {},
   "source": [
    "***If you get a pop up saying 'Warning: This notebook was not authored by Google,' check 'Reset all runtimes before running' and click 'Run Anyway'***"
   ]
  },
  {
   "cell_type": "markdown",
   "metadata": {},
   "source": [
    "![alt text](https://course.fast.ai/images/colab/02.png)"
   ]
  },
  {
   "cell_type": "markdown",
   "metadata": {},
   "source": [
    "## Saving your work\n",
    "\n",
    "For now this will just save the notebook on their cloud, we will look next week how to utilize your Google Drives!"
   ]
  },
  {
   "cell_type": "markdown",
   "metadata": {},
   "source": [
    "![alt text](https://course.fast.ai/images/colab/09.png)"
   ]
  }
 ],
 "metadata": {
  "kernelspec": {
   "display_name": "Python 3",
   "language": "python",
   "name": "python3"
  }
 },
 "nbformat": 4,
 "nbformat_minor": 1
}
